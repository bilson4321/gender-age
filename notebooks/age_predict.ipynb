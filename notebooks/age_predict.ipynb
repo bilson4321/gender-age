{
 "cells": [
  {
   "cell_type": "code",
   "execution_count": 2,
   "metadata": {},
   "outputs": [
    {
     "name": "stderr",
     "output_type": "stream",
     "text": [
      "2023-12-14 18:17:23.679762: E external/local_xla/xla/stream_executor/cuda/cuda_dnn.cc:9261] Unable to register cuDNN factory: Attempting to register factory for plugin cuDNN when one has already been registered\n",
      "2023-12-14 18:17:23.679829: E external/local_xla/xla/stream_executor/cuda/cuda_fft.cc:607] Unable to register cuFFT factory: Attempting to register factory for plugin cuFFT when one has already been registered\n",
      "2023-12-14 18:17:23.731172: E external/local_xla/xla/stream_executor/cuda/cuda_blas.cc:1515] Unable to register cuBLAS factory: Attempting to register factory for plugin cuBLAS when one has already been registered\n",
      "2023-12-14 18:17:23.835189: I tensorflow/core/platform/cpu_feature_guard.cc:182] This TensorFlow binary is optimized to use available CPU instructions in performance-critical operations.\n",
      "To enable the following instructions: AVX2 FMA, in other operations, rebuild TensorFlow with the appropriate compiler flags.\n",
      "2023-12-14 18:17:24.901139: W tensorflow/compiler/tf2tensorrt/utils/py_utils.cc:38] TF-TRT Warning: Could not find TensorRT\n"
     ]
    }
   ],
   "source": [
    "import cv2 \n",
    "import matplotlib.pyplot as plt\n",
    "import tensorflow as tf\n"
   ]
  },
  {
   "cell_type": "code",
   "execution_count": 16,
   "metadata": {},
   "outputs": [
    {
     "name": "stdout",
     "output_type": "stream",
     "text": [
      "()\n"
     ]
    },
    {
     "ename": "error",
     "evalue": "OpenCV(4.8.1) /io/opencv/modules/dnn/src/net.cpp:79: error: (-215:Assertion failed) !empty() in function 'forward'\n",
     "output_type": "error",
     "traceback": [
      "\u001b[0;31m---------------------------------------------------------------------------\u001b[0m",
      "\u001b[0;31merror\u001b[0m                                     Traceback (most recent call last)",
      "Cell \u001b[0;32mIn[16], line 7\u001b[0m\n\u001b[1;32m      5\u001b[0m \u001b[38;5;28mprint\u001b[39m(cv2_model\u001b[38;5;241m.\u001b[39mgetLayerNames())\n\u001b[1;32m      6\u001b[0m cv2_model\u001b[38;5;241m.\u001b[39msetInput(cv2\u001b[38;5;241m.\u001b[39mdnn\u001b[38;5;241m.\u001b[39mblobFromImage(input_image, size\u001b[38;5;241m=\u001b[39m(\u001b[38;5;241m96\u001b[39m, \u001b[38;5;241m96\u001b[39m), swapRB\u001b[38;5;241m=\u001b[39m\u001b[38;5;28;01mTrue\u001b[39;00m, crop\u001b[38;5;241m=\u001b[39m\u001b[38;5;28;01mFalse\u001b[39;00m))\n\u001b[0;32m----> 7\u001b[0m cv2_output \u001b[38;5;241m=\u001b[39m \u001b[43mcv2_model\u001b[49m\u001b[38;5;241;43m.\u001b[39;49m\u001b[43mforward\u001b[49m\u001b[43m(\u001b[49m\u001b[43m)\u001b[49m\n\u001b[1;32m      8\u001b[0m cv2_output \u001b[38;5;241m=\u001b[39m cv2_output\u001b[38;5;241m.\u001b[39mflatten()\n",
      "\u001b[0;31merror\u001b[0m: OpenCV(4.8.1) /io/opencv/modules/dnn/src/net.cpp:79: error: (-215:Assertion failed) !empty() in function 'forward'\n"
     ]
    }
   ],
   "source": [
    "input_image = cv2.imread('./inputs/image.jpg')\n",
    "cv2_model = cv2.dnn.readNetFromTensorflow('./outputs/models/age_model_acc_0.74.h5')\n",
    "cv2_model.setPreferableBackend(cv2.dnn.DNN_BACKEND_OPENCV)\n",
    "cv2_model.setPreferableTarget(cv2.dnn.DNN_TARGET_CPU)\n",
    "print(cv2_model.getLayerNames())\n",
    "cv2_model.setInput(cv2.dnn.blobFromImage(input_image, size=(96, 96), swapRB=True, crop=False))\n",
    "cv2_output = cv2_model.forward()\n",
    "cv2_output = cv2_output.flatten()\n"
   ]
  },
  {
   "cell_type": "code",
   "execution_count": 8,
   "metadata": {},
   "outputs": [
    {
     "ename": "error",
     "evalue": "OpenCV(4.8.1) /io/opencv/modules/dnn/src/net_impl.hpp:108: error: (-2:Unspecified error) Can't create layer \"StatefulPartitionedCall\" of type \"StatefulPartitionedCall\" in function 'getLayerInstance'\n",
     "output_type": "error",
     "traceback": [
      "\u001b[0;31m---------------------------------------------------------------------------\u001b[0m",
      "\u001b[0;31merror\u001b[0m                                     Traceback (most recent call last)",
      "Cell \u001b[0;32mIn[8], line 5\u001b[0m\n\u001b[1;32m      2\u001b[0m cv2_model\u001b[38;5;241m.\u001b[39msetInput(blob)\n\u001b[1;32m      4\u001b[0m \u001b[38;5;66;03m# Perform forward pass and get the output\u001b[39;00m\n\u001b[0;32m----> 5\u001b[0m output \u001b[38;5;241m=\u001b[39m \u001b[43mcv2_model\u001b[49m\u001b[38;5;241;43m.\u001b[39;49m\u001b[43mforward\u001b[49m\u001b[43m(\u001b[49m\u001b[43m)\u001b[49m\n\u001b[1;32m      7\u001b[0m \u001b[38;5;66;03m# Process the output as needed\u001b[39;00m\n\u001b[1;32m      8\u001b[0m \u001b[38;5;66;03m# Modify this part based on your specific post-processing requirements\u001b[39;00m\n\u001b[1;32m      9\u001b[0m output_tensor \u001b[38;5;241m=\u001b[39m output[\u001b[38;5;241m0\u001b[39m]\n",
      "\u001b[0;31merror\u001b[0m: OpenCV(4.8.1) /io/opencv/modules/dnn/src/net_impl.hpp:108: error: (-2:Unspecified error) Can't create layer \"StatefulPartitionedCall\" of type \"StatefulPartitionedCall\" in function 'getLayerInstance'\n"
     ]
    }
   ],
   "source": [
    "# Set the input to the model\n",
    "cv2_model.setInput(blob)\n",
    "\n",
    "# Perform forward pass and get the output\n",
    "output = cv2_model.forward()\n",
    "\n",
    "# Process the output as needed\n",
    "# Modify this part based on your specific post-processing requirements\n",
    "output_tensor = output[0]\n",
    "\n",
    "# Perform further operations based on the output_tensor\n",
    "\n",
    "# For example, print the output\n",
    "print(\"Output Tensor:\", output_tensor)\n",
    "\n",
    "# Display the input image with OpenCV (optional)\n",
    "cv2.imshow('Input Image', input_image)\n",
    "cv2.waitKey(0)\n",
    "cv2.destroyAllWindows()"
   ]
  },
  {
   "cell_type": "code",
   "execution_count": null,
   "metadata": {},
   "outputs": [],
   "source": []
  }
 ],
 "metadata": {
  "kernelspec": {
   "display_name": ".venv",
   "language": "python",
   "name": "python3"
  },
  "language_info": {
   "codemirror_mode": {
    "name": "ipython",
    "version": 3
   },
   "file_extension": ".py",
   "mimetype": "text/x-python",
   "name": "python",
   "nbconvert_exporter": "python",
   "pygments_lexer": "ipython3",
   "version": "3.10.12"
  }
 },
 "nbformat": 4,
 "nbformat_minor": 2
}
